{
 "cells": [
  {
   "cell_type": "markdown",
   "metadata": {},
   "source": [
    "# Shrinkage Methods\n",
    "\n",
    "The subset selection methods described before involves using OLS to fit a linear model that contains a subset of the predictors. As an alternative, we can fit a model containing _all_ predictors using a technique that constrains or 'regularizes' the coefficient estimates, or equivalently, that _shrinks_ the coefficient estimates towards zero.\n",
    "\n",
    "💻 Previously we were interested in finding the most parsimonious model for the following data set:"
   ]
  },
  {
   "cell_type": "code",
   "execution_count": 1,
   "metadata": {},
   "outputs": [
    {
     "data": {
      "text/html": [
       "<div>\n",
       "<style scoped>\n",
       "    .dataframe tbody tr th:only-of-type {\n",
       "        vertical-align: middle;\n",
       "    }\n",
       "\n",
       "    .dataframe tbody tr th {\n",
       "        vertical-align: top;\n",
       "    }\n",
       "\n",
       "    .dataframe thead th {\n",
       "        text-align: right;\n",
       "    }\n",
       "</style>\n",
       "<table border=\"1\" class=\"dataframe\">\n",
       "  <thead>\n",
       "    <tr style=\"text-align: right;\">\n",
       "      <th></th>\n",
       "      <th>price</th>\n",
       "      <th>crime</th>\n",
       "      <th>nox</th>\n",
       "      <th>rooms</th>\n",
       "      <th>dist</th>\n",
       "      <th>radial</th>\n",
       "      <th>proptax</th>\n",
       "      <th>stratio</th>\n",
       "      <th>lowstat</th>\n",
       "      <th>lprice</th>\n",
       "      <th>lnox</th>\n",
       "      <th>lproptax</th>\n",
       "    </tr>\n",
       "  </thead>\n",
       "  <tbody>\n",
       "    <tr>\n",
       "      <th>0</th>\n",
       "      <td>24000.0</td>\n",
       "      <td>0.006</td>\n",
       "      <td>5.38</td>\n",
       "      <td>6.57</td>\n",
       "      <td>4.09</td>\n",
       "      <td>1.0</td>\n",
       "      <td>29.600000</td>\n",
       "      <td>15.300000</td>\n",
       "      <td>4.98</td>\n",
       "      <td>10.085810</td>\n",
       "      <td>1.682688</td>\n",
       "      <td>5.690360</td>\n",
       "    </tr>\n",
       "    <tr>\n",
       "      <th>1</th>\n",
       "      <td>21599.0</td>\n",
       "      <td>0.027</td>\n",
       "      <td>4.69</td>\n",
       "      <td>6.42</td>\n",
       "      <td>4.97</td>\n",
       "      <td>2.0</td>\n",
       "      <td>24.200001</td>\n",
       "      <td>17.799999</td>\n",
       "      <td>9.14</td>\n",
       "      <td>9.980402</td>\n",
       "      <td>1.545433</td>\n",
       "      <td>5.488938</td>\n",
       "    </tr>\n",
       "    <tr>\n",
       "      <th>2</th>\n",
       "      <td>34700.0</td>\n",
       "      <td>0.027</td>\n",
       "      <td>4.69</td>\n",
       "      <td>7.18</td>\n",
       "      <td>4.97</td>\n",
       "      <td>2.0</td>\n",
       "      <td>24.200001</td>\n",
       "      <td>17.799999</td>\n",
       "      <td>4.03</td>\n",
       "      <td>10.454500</td>\n",
       "      <td>1.545433</td>\n",
       "      <td>5.488938</td>\n",
       "    </tr>\n",
       "    <tr>\n",
       "      <th>3</th>\n",
       "      <td>33400.0</td>\n",
       "      <td>0.032</td>\n",
       "      <td>4.58</td>\n",
       "      <td>7.00</td>\n",
       "      <td>6.06</td>\n",
       "      <td>3.0</td>\n",
       "      <td>22.200001</td>\n",
       "      <td>18.700001</td>\n",
       "      <td>2.94</td>\n",
       "      <td>10.416310</td>\n",
       "      <td>1.521699</td>\n",
       "      <td>5.402678</td>\n",
       "    </tr>\n",
       "    <tr>\n",
       "      <th>4</th>\n",
       "      <td>36199.0</td>\n",
       "      <td>0.069</td>\n",
       "      <td>4.58</td>\n",
       "      <td>7.15</td>\n",
       "      <td>6.06</td>\n",
       "      <td>3.0</td>\n",
       "      <td>22.200001</td>\n",
       "      <td>18.700001</td>\n",
       "      <td>5.33</td>\n",
       "      <td>10.496790</td>\n",
       "      <td>1.521699</td>\n",
       "      <td>5.402678</td>\n",
       "    </tr>\n",
       "  </tbody>\n",
       "</table>\n",
       "</div>"
      ],
      "text/plain": [
       "     price  crime   nox  rooms  dist  radial    proptax    stratio  lowstat  \\\n",
       "0  24000.0  0.006  5.38   6.57  4.09     1.0  29.600000  15.300000     4.98   \n",
       "1  21599.0  0.027  4.69   6.42  4.97     2.0  24.200001  17.799999     9.14   \n",
       "2  34700.0  0.027  4.69   7.18  4.97     2.0  24.200001  17.799999     4.03   \n",
       "3  33400.0  0.032  4.58   7.00  6.06     3.0  22.200001  18.700001     2.94   \n",
       "4  36199.0  0.069  4.58   7.15  6.06     3.0  22.200001  18.700001     5.33   \n",
       "\n",
       "      lprice      lnox  lproptax  \n",
       "0  10.085810  1.682688  5.690360  \n",
       "1   9.980402  1.545433  5.488938  \n",
       "2  10.454500  1.545433  5.488938  \n",
       "3  10.416310  1.521699  5.402678  \n",
       "4  10.496790  1.521699  5.402678  "
      ]
     },
     "execution_count": 1,
     "metadata": {},
     "output_type": "execute_result"
    }
   ],
   "source": [
    "# env\n",
    "import pandas as pd\n",
    "import numpy as np\n",
    "import patsy\n",
    "import statsmodels.api as sm\n",
    "\n",
    "# rd df\n",
    "df = pd.read_stata('http://fmwww.bc.edu/ec-p/data/wooldridge/hprice2.dta')\n",
    "df.head()"
   ]
  },
  {
   "cell_type": "markdown",
   "metadata": {},
   "source": [
    "We actually found out that the chosen model by 'best,' 'forward,' and 'backward' subset search was\n",
    "\n",
    "$$\n",
    "\\texttt{lprice}=\\beta_{0}+\\beta_{1}\\texttt{lnox}+\\beta_{2}\\texttt{lproptax}+\\beta_{3}\\texttt{crime}+\\beta_{4}\\texttt{rooms}+\\beta_{5}\\texttt{dist}+\\beta_{6}\\texttt{radial}+\\beta_{7}\\texttt{stratio}+\\beta_{8}\\texttt{lowstat}+e\n",
    "$$\n",
    "\n",
    "However this model excludes the possibility of interaction terms among the predictors. Instead consider a most complete potential model with _all_ possible cross-products among the regressors _after_ they are re-center at their mean, i.e.,\n",
    "\n",
    "$$\n",
    "\\begin{aligned}\n",
    "\\texttt{lprice}&=\\beta_{0}+\\beta_{1}\\texttt{lnox}+\\beta_{2}\\texttt{lproptax}+\\beta_{3}\\texttt{crime}+\\beta_{4}\\texttt{rooms}+\\beta_{5}\\texttt{dist}+\\beta_{6}\\texttt{radial}\\\\\n",
    "&+\\beta_{7}\\texttt{stratio}+\\beta_{8}\\texttt{lowstat}+\\beta_{9}(\\texttt{lnox}-\\mu_{\\texttt{lnox}})(\\texttt{lproptax}-\\mu_{\\texttt{lproptax}})\\\\\n",
    "&+\\beta_{10}(\\texttt{lnox}-\\mu_{\\texttt{lnox}})(\\texttt{crime}-\\mu_{\\texttt{crime}})+\\ldots+\\beta_{35}(\\texttt{radial}-\\mu_{\\texttt{radial}})(\\texttt{lowstat}-\\mu_{\\texttt{lowstat}})\\\\\n",
    "&+\\beta_{36}(\\texttt{stratio}-\\mu_{\\texttt{stratio}})(\\texttt{lowstat}-\\mu_{\\texttt{lowstat}})+e.\n",
    "\\end{aligned}\n",
    "$$\n",
    "\n",
    "In this model with over 4 times the original number of predictors, one has that $\\beta_{2}$ represents the constant elasticity of home prices with respect to property tax at the _mean_ value, i.e. $\\mu_{\\texttt{predictor}}$, of the other $\\texttt{predictor}$. Similar interpretations can be given to the coefficients multiplying the other predictors.\n",
    "\n",
    "✍🏽 One can replace $\\mu_{\\texttt{predictor}}$ with other values of the $\\texttt{predictor}$ that may be of interest."
   ]
  },
  {
   "cell_type": "markdown",
   "metadata": {},
   "source": [
    "💻 This block will add _all_ cross-products among the _demeaned_ set of predictors to the original data frame."
   ]
  },
  {
   "cell_type": "code",
   "execution_count": 2,
   "metadata": {},
   "outputs": [
    {
     "name": "stdout",
     "output_type": "stream",
     "text": [
      "['price', 'crime', 'nox', 'rooms', 'dist', 'radial', 'proptax', 'stratio', 'lowstat', 'lprice', 'lnox', 'lproptax', 'lnox_dmean', 'lproptax_dmean', 'crime_dmean', 'rooms_dmean', 'dist_dmean', 'radial_dmean', 'stratio_dmean', 'lowstat_dmean']\n"
     ]
    }
   ],
   "source": [
    "# mk demeaned vars\n",
    "tmp = ['lnox','lproptax','crime','rooms','dist','radial','stratio','lowstat']\n",
    "for x in tmp:\n",
    "    df[x+'_dmean'] = df[x] - df[x].mean(skipna = True)\n",
    "print(list(df))"
   ]
  },
  {
   "cell_type": "markdown",
   "metadata": {},
   "source": [
    "💻 This code will create both model specifications"
   ]
  },
  {
   "cell_type": "code",
   "execution_count": 3,
   "metadata": {},
   "outputs": [
    {
     "name": "stdout",
     "output_type": "stream",
     "text": [
      "lprice ~ 1 + lnox+lproptax+crime+rooms+dist+radial+stratio+lowstat\n",
      "lprice ~ 1 + lnox+lproptax+crime+rooms+dist+radial+stratio+lowstat + (lnox_dmean*lproptax_dmean)+(lnox_dmean*crime_dmean)+(lnox_dmean*rooms_dmean)+(lnox_dmean*dist_dmean)+(lnox_dmean*radial_dmean)+(lnox_dmean*stratio_dmean)+(lnox_dmean*lowstat_dmean)+(lproptax_dmean*crime_dmean)+(lproptax_dmean*rooms_dmean)+(lproptax_dmean*dist_dmean)+(lproptax_dmean*radial_dmean)+(lproptax_dmean*stratio_dmean)+(lproptax_dmean*lowstat_dmean)+(crime_dmean*rooms_dmean)+(crime_dmean*dist_dmean)+(crime_dmean*radial_dmean)+(crime_dmean*stratio_dmean)+(crime_dmean*lowstat_dmean)+(rooms_dmean*dist_dmean)+(rooms_dmean*radial_dmean)+(rooms_dmean*stratio_dmean)+(rooms_dmean*lowstat_dmean)+(dist_dmean*radial_dmean)+(dist_dmean*stratio_dmean)+(dist_dmean*lowstat_dmean)+(radial_dmean*stratio_dmean)+(radial_dmean*lowstat_dmean)+(stratio_dmean*lowstat_dmean)\n"
     ]
    }
   ],
   "source": [
    "# mk interact trms\n",
    "tmpstr = []\n",
    "for x in range(len(tmp)):\n",
    "    for y in tmp[x+1:]:\n",
    "        if x != y:\n",
    "            tmpstr.append('('+tmp[x]+'_dmean*'+y+'_dmean'+')')\n",
    "    \n",
    "# mk specifications str\n",
    "f1 = 'lprice ~ 1 + ' + ''.join([x+'+' for x in tmp])[:-1]\n",
    "f2 = f1 + ' + ' + ''.join([x+'+' for x in tmpstr])[:-1] +''\n",
    "\n",
    "# prt specifications str\n",
    "print(f1)\n",
    "print(f2)"
   ]
  },
  {
   "cell_type": "markdown",
   "metadata": {},
   "source": [
    "💻 This code uses the ```patsy``` library to create the corresponding outcome vector and design matrices for both specifications."
   ]
  },
  {
   "cell_type": "code",
   "execution_count": 4,
   "metadata": {},
   "outputs": [],
   "source": [
    "y1, X1 = patsy.dmatrices(f1, data=df, return_type='dataframe')\n",
    "y2, X2 = patsy.dmatrices(f2, data=df, return_type='dataframe')"
   ]
  },
  {
   "cell_type": "markdown",
   "metadata": {},
   "source": [
    "💻 This code will create the indices for the train (80%) and validation (20%) data sets."
   ]
  },
  {
   "cell_type": "code",
   "execution_count": 5,
   "metadata": {},
   "outputs": [],
   "source": [
    "from sklearn.model_selection import train_test_split\n",
    "X1_train, X1_test, y1_train, y1_test = train_test_split(X1, y1, test_size=0.20, random_state=42)\n",
    "X2_train, X2_test, y2_train, y2_test = train_test_split(X2, y2, test_size=0.20, random_state=42)"
   ]
  },
  {
   "cell_type": "markdown",
   "metadata": {},
   "source": [
    "## _Ridge_ Regression\n",
    "\n",
    "The _traditional_ motivation is to reduce the degree of collinearity among the regressors. The _modern_ motivation is regularization of high-dimensional and ill-posed inverse problems.\n",
    "\n",
    "<p style='text-align: right;'> <a href=\"https://en.wikipedia.org/wiki/Tikhonov_regularization\" style=\"color: #cc0000\">Tikhonov Regularization</a></p>\n",
    "\n",
    "#### Traditional Motivation\n",
    "\n",
    "Take a linear regression model $y_{i}=\\mathbf{x}_{i}^{\\prime} \\boldsymbol{\\beta}+e_{i}$. In \"machine learning\" applications the dimension of $\\boldsymbol{\\beta}$ can be very large, and often the regressors are highly correlated. In these cases the least squares estimator may be undefined and/or the $\\mathbf{X}^{\\prime}\\mathbf{X}$ matrix ill-conditioned, which can mean that the least squares coefficient estimates are numerically unreliable. As a numerical solution to this dilemma, Hoerl and Kennard (1970) proposed the ridge regression estimator\n",
    "\n",
    "$$\\widehat{\\boldsymbol{\\beta}}_{\\text {ridge}}=\\left(\\mathbf{X}^{\\prime} \\mathbf{X}+\\lambda \\mathbf{I}_{k}\\right)^{-1} \\mathbf{X}^{\\prime} \\mathbf{y}$$\n",
    "\n",
    "where <span style=\"color:blue\">$\\lambda>0$</span> is a shrinkage parameter and treated later on as a <span style=\"color:blue\">tuning parameter</span>.\n",
    "\n",
    "✍🏽 The ridge regression estimator has the property that it is well-defined and does not suffer from multicollinearity or ill-conditioning so long as $\\lambda>0$. This even holds if $k>n$! That is, the ridge regression estimator can be calculated even when the number of regressors exceeds the sample size.\n",
    "\n",
    "***\n",
    "To see how $\\lambda>0$ ensures that the inverse problem is solved, use the spectral decomposition to write $\\mathbf{X}^{\\prime} \\mathbf{X}=\\mathbf{H}^{\\prime}\\mathbf{D}\\mathbf{H}$ where $\\mathbf{H}$ is orthonormal and $\\mathbf{D}=\\text{diag}\\left\\{r_{1}, \\ldots, r_{k}\\right\\}$ is a diagonal matrix with the eigenvalues $r_{j}$ of $\\mathbf{X}^{\\prime} \\mathbf{X}$ on the diagonal. Let $\\Lambda=\\lambda \\mathbf{I}_{k}$. We can write\n",
    "$$\n",
    "\\mathbf{X}^{\\prime} \\mathbf{X}+\\lambda \\mathbf{I}_{k}=\\mathbf{H}^{\\prime} \\mathbf{D} \\mathbf{H}+\\lambda \\mathbf{H}^{\\prime} \\mathbf{H}=\\mathbf{H}^{\\prime} \\mathbf{D} \\mathbf{H}+\\mathbf{H}^{\\prime} \\Lambda \\mathbf{H}=\\mathbf{H}^{\\prime}(\\mathbf{D}+\\Lambda) \\mathbf{H}\n",
    "$$\n",
    "which has eigenvalues $r_{j}+\\lambda>0$. Thus all eigenvalues are bounded away from zero so $\\mathbf{X}^{\\prime} \\mathbf{X}+\\lambda \\mathbf{I}_{k}$ is full\n",
    "rank and therefore invertible.\n",
    "\n",
    "<p style='text-align: right;'> <a href=\"https://en.wikipedia.org/wiki/Eigendecomposition_of_a_matrix\" style=\"color: #cc0000\">Spectral Decomposition of a Matrix</a></p>\n",
    "\n",
    "<p style='text-align: right;'> <a href=\"https://en.wikipedia.org/wiki/Orthogonal_matrix\" style=\"color: #cc0000\">Orthonormal Matrix</a></p>\n",
    "\n",
    "<p style='text-align: right;'> <a href=\"https://en.wikipedia.org/wiki/Diagonal_matrix\" style=\"color: #cc0000\">Diagonal Matrix</a></p>\n",
    "\n",
    "***\n",
    "\n",
    "#### Modern Motivation\n",
    "\n",
    "The second motivation is based on penalization. When $\\mathbf{X}^{\\prime}\\mathbf{X}$ is ill-conditioned computing its inverse is \"ill-posed.\" Techniques to deal with ill-posed estimators are called \"regularization\" and a leading method is penalization. Consider the penalized regression criterion (Sum of Squared Errors)\n",
    "\n",
    "$$\n",
    "\\begin{aligned}\\text{SSE}_2(\\mathbf{b}, \\lambda) &=(\\mathbf{y}-\\mathbf{X} \\mathbf{b})^{\\prime}(\\mathbf{y}-\\mathbf{X} \\mathbf{b})+\\lambda \\mathbf{b}^{\\prime} \\mathbf{b} \\\\ &=\\|\\mathbf{y}-\\mathbf{X} \\mathbf{b}\\|_{2}^{2}+\\lambda\\|\\mathbf{b}\\|_{2}^{2} \\end{aligned}\n",
    "$$\n",
    "\n",
    "where $\\|\\mathbf{a}\\|_{2}=\\left(\\mathbf{a}^{\\prime} \\mathbf{a}\\right)^{1 / 2}$ is the $L_2$-norm. The minimizer of $\\mathrm{SSE}_2(\\mathbf{b}, \\lambda)$ is a regularized least squares estimator. The first order condition for minimization of $\\mathrm{SSE}_{2}(\\mathbf{b}, \\lambda)$ over $\\mathbf{b}$ is\n",
    "\n",
    "$$\n",
    "-2 \\mathbf{X}^{\\prime}(\\mathbf{y}-X \\mathbf{b})+2 \\lambda \\mathbf{b}=0\n",
    "$$\n",
    "\n",
    "<p style='text-align: right;'> <a href=\"https://en.wikipedia.org/wiki/Euclidean_distance\" style=\"color: #cc0000\">$L_2$-norm</a></p>\n",
    "\n",
    "The solution is $\\widehat{\\boldsymbol{\\beta}}_{\\text {ridge }}$. Thus the regularized (penalized) least squares estimator equals ridge regression. This shows that the ridge regression estimator minimizes the sum of squared errors subject to a penalty on the $L_2$-norm magnitude of the regression coefficient. Penalizing large coefficient vectors keeps the latter from being too large and erratic. _Hence one interpretation of $\\lambda$ is the degree of penalty on the\n",
    "magnitude of the coefficient vector._\n",
    "\n",
    "***\n",
    "Minimization subject to a penalty has a dual representation as constrained minimization. The latter is\n",
    "\n",
    "$$\n",
    "\\min _{\\mathbf{b}}(\\mathbf{y}-\\mathbf{X} \\mathbf{b})^{\\prime}(\\mathbf{y}-\\mathbf{X} \\mathbf{b})\n",
    "$$\n",
    "\n",
    "subject to $\\mathbf{b}^{\\prime} \\mathbf{b} \\leq \\tau$, for some $\\tau>0$. To see the connection, the Lagrangian for the constrained problem is\n",
    "$$\n",
    "\\min _{\\mathbf{b}}(\\mathbf{y}-\\mathbf{X} \\mathbf{b})^{\\prime}(\\mathbf{y}-\\mathbf{X} \\mathbf{b})+\\lambda\\left(\\mathbf{b}^{\\prime} \\mathbf{b}-\\tau\\right),\n",
    "$$\n",
    "\n",
    "where $\\lambda$ is a [Lagrange multiplier](https://en.wikipedia.org/wiki/Lagrange_multiplier).\n",
    "\n",
    "The practical difference between the penalization and constraint problems is that in the first you specify the ridge parameter $\\lambda$ while in the second you specify the constraint $\\tau$. They are connected, since the values of $\\lambda$ and $\\tau$ satisfy the relationship\n",
    "\n",
    "$$\n",
    "\\mathbf{y}^{\\prime} \\mathbf{X}\\left(\\mathbf{X}^{\\prime} \\mathbf{X}+\\lambda \\mathbf{I}_{k}\\right)^{-1}\\left(\\mathbf{X}^{\\prime} \\mathbf{X}+\\lambda \\mathbf{I}_{k}\\right)^{-1} \\mathbf{X}^{\\prime} \\mathbf{y}=\\tau.\n",
    "$$\n",
    "\n",
    "Thus to find $\\lambda$ given $\\tau$ it is sufficient to (numerically) solve this equation.\n",
    "***\n",
    "\n",
    "<img src=\"img/ridge.png\" alt=\"drawing\" width=\"500\"/>\n",
    "\n",
    "This figure help us visualize the constraint problem as it plots an example in $\\mathbb{R}^2$. The constraint set $\\mathbf{b}^\\prime\\mathbf{b}\\le\\tau$ is displayed as the ball about the origin and the contour sets of the $\\mathrm{SSE}$ are displayed as ellipses. The least squares estimator is the center of the ellipses, while the ridge regression\n",
    "estimator is the point on the circle where the contour is tangent. This shrinks the least squares coefficient towards the zero vector. It shrinks along a trajectory determined by the degree of correlation between the variables. This trajectory is displayed with the dashed lines, marked as 'Ridge path'. This is the sequence of ridge regression coefficients obtained as $\\lambda$ (or $\\tau$) is varied from small to large. When $\\lambda=0$ (or $\\tau$ is large) the ridge estimator equals least squares. For small $\\lambda$ the ridge estimator moves slightly towards the origin by sliding along the ridge of the contour set. As $\\lambda$ increases the ridge estimator takes a more direct path towards the origin.\n",
    "\n",
    "<p style='text-align: right;'> <a href=\"https://en.wikipedia.org/wiki/Real_coordinate_space\" style=\"color: #cc0000\">$\\mathbb{R}^2$</a></p>\n",
    "\n",
    "💻 In these set of commands the Ridge estimators are calculated for a sequence of values of $\\lambda$ and we observe their performance"
   ]
  },
  {
   "cell_type": "code",
   "execution_count": 6,
   "metadata": {},
   "outputs": [],
   "source": [
    "from sklearn.linear_model import Ridge, RidgeCV\n",
    "from sklearn.metrics import mean_squared_error"
   ]
  },
  {
   "cell_type": "markdown",
   "metadata": {},
   "source": [
    "The ```Ridge()``` function has an alpha argument ($\\lambda$, but with a different name!) that is used to tune the model. We'll generate an array of alpha values ranging from very big to very small, essentially covering the full range of scenarios from the null model containing only the intercept, to the least squares fit:"
   ]
  },
  {
   "cell_type": "code",
   "execution_count": 7,
   "metadata": {},
   "outputs": [
    {
     "data": {
      "text/plain": [
       "array([0.        , 0.21052632, 0.42105263, 0.63157895, 0.84210526,\n",
       "       1.05263158, 1.26315789, 1.47368421, 1.68421053, 1.89473684,\n",
       "       2.10526316, 2.31578947, 2.52631579, 2.73684211, 2.94736842,\n",
       "       3.15789474, 3.36842105, 3.57894737, 3.78947368, 4.        ])"
      ]
     },
     "execution_count": 7,
     "metadata": {},
     "output_type": "execute_result"
    }
   ],
   "source": [
    "alphas = np.linspace(0,4,20)\n",
    "alphas"
   ]
  },
  {
   "cell_type": "code",
   "execution_count": 8,
   "metadata": {},
   "outputs": [],
   "source": [
    "ridge = Ridge(normalize = True)\n",
    "coefs = []\n",
    "\n",
    "for a in alphas:\n",
    "    ridge.set_params(alpha = a)\n",
    "    ridge.fit(X2, y2)\n",
    "    coefs.append(ridge.coef_)\n",
    "    \n",
    "coefs = pd.DataFrame(np.array(coefs).transpose(2,0,1).reshape(45,-1)) "
   ]
  },
  {
   "cell_type": "markdown",
   "metadata": {},
   "source": [
    "We expect the coefficient estimates to be much smaller when a large value of alpha is used, as compared to when a small value of alpha is used. Let's plot and find out:"
   ]
  },
  {
   "cell_type": "code",
   "execution_count": 9,
   "metadata": {},
   "outputs": [
    {
     "ename": "NameError",
     "evalue": "name 'plt' is not defined",
     "output_type": "error",
     "traceback": [
      "\u001b[1;31m---------------------------------------------------------------------------\u001b[0m",
      "\u001b[1;31mNameError\u001b[0m                                 Traceback (most recent call last)",
      "\u001b[1;32m<ipython-input-9-2dcd9a99197a>\u001b[0m in \u001b[0;36m<module>\u001b[1;34m\u001b[0m\n\u001b[1;32m----> 1\u001b[1;33m \u001b[0max\u001b[0m \u001b[1;33m=\u001b[0m \u001b[0mplt\u001b[0m\u001b[1;33m.\u001b[0m\u001b[0mgca\u001b[0m\u001b[1;33m(\u001b[0m\u001b[1;33m)\u001b[0m\u001b[1;33m\u001b[0m\u001b[1;33m\u001b[0m\u001b[0m\n\u001b[0m\u001b[0;32m      2\u001b[0m \u001b[0max\u001b[0m\u001b[1;33m.\u001b[0m\u001b[0mplot\u001b[0m\u001b[1;33m(\u001b[0m\u001b[0malphas\u001b[0m\u001b[1;33m,\u001b[0m \u001b[0mcoefs\u001b[0m\u001b[1;33m.\u001b[0m\u001b[0miloc\u001b[0m\u001b[1;33m[\u001b[0m\u001b[1;36m1\u001b[0m\u001b[1;33m]\u001b[0m\u001b[1;33m)\u001b[0m\u001b[1;33m\u001b[0m\u001b[1;33m\u001b[0m\u001b[0m\n\u001b[0;32m      3\u001b[0m \u001b[0mplt\u001b[0m\u001b[1;33m.\u001b[0m\u001b[0mxlabel\u001b[0m\u001b[1;33m(\u001b[0m\u001b[1;34m'alpha'\u001b[0m\u001b[1;33m)\u001b[0m\u001b[1;33m\u001b[0m\u001b[1;33m\u001b[0m\u001b[0m\n\u001b[0;32m      4\u001b[0m \u001b[0mplt\u001b[0m\u001b[1;33m.\u001b[0m\u001b[0mylabel\u001b[0m\u001b[1;33m(\u001b[0m\u001b[0mnp\u001b[0m\u001b[1;33m.\u001b[0m\u001b[0marray\u001b[0m\u001b[1;33m(\u001b[0m\u001b[0mlist\u001b[0m\u001b[1;33m(\u001b[0m\u001b[0mX2\u001b[0m\u001b[1;33m)\u001b[0m\u001b[1;33m)\u001b[0m\u001b[1;33m[\u001b[0m\u001b[1;36m1\u001b[0m\u001b[1;33m]\u001b[0m\u001b[1;33m)\u001b[0m\u001b[1;33m\u001b[0m\u001b[1;33m\u001b[0m\u001b[0m\n",
      "\u001b[1;31mNameError\u001b[0m: name 'plt' is not defined"
     ]
    }
   ],
   "source": [
    "import matplotlib.pyplot as plt\n",
    "ax = plt.gca()\n",
    "ax.plot(alphas, coefs.iloc[1])\n",
    "plt.xlabel('alpha')\n",
    "plt.ylabel(np.array(list(X2))[1])"
   ]
  },
  {
   "cell_type": "markdown",
   "metadata": {},
   "source": [
    "Next we fit a ridge regression model on the training set, and evaluate its MSE on the test set, using  $\\lambda=4$ :"
   ]
  },
  {
   "cell_type": "code",
   "execution_count": null,
   "metadata": {},
   "outputs": [],
   "source": [
    "ridge2 = Ridge(alpha = 4, normalize = True)\n",
    "ridge2.fit(X2_train, y2_train)             # Fit a ridge regression on the training data\n",
    "pred2 = ridge2.predict(X2_test)           # Use this model to predict the test data\n",
    "print(pd.Series(np.array(ridge2.coef_).transpose(1,0).tolist(), index = X2_train.columns)) # Print coefficients\n",
    "print(mean_squared_error(y2_test, pred2))          # Calculate the test MSE"
   ]
  },
  {
   "cell_type": "code",
   "execution_count": null,
   "metadata": {},
   "outputs": [],
   "source": []
  }
 ],
 "metadata": {
  "hide_input": false,
  "kernelspec": {
   "display_name": "Python 3",
   "language": "python",
   "name": "python3"
  },
  "language_info": {
   "codemirror_mode": {
    "name": "ipython",
    "version": 3
   },
   "file_extension": ".py",
   "mimetype": "text/x-python",
   "name": "python",
   "nbconvert_exporter": "python",
   "pygments_lexer": "ipython3",
   "version": "3.7.6"
  },
  "latex_envs": {
   "LaTeX_envs_menu_present": true,
   "autoclose": false,
   "autocomplete": true,
   "bibliofile": "biblio.bib",
   "cite_by": "apalike",
   "current_citInitial": 1,
   "eqLabelWithNumbers": true,
   "eqNumInitial": 1,
   "hotkeys": {
    "equation": "Ctrl-E",
    "itemize": "Ctrl-I"
   },
   "labels_anchors": false,
   "latex_user_defs": false,
   "report_style_numbering": false,
   "user_envs_cfg": false
  }
 },
 "nbformat": 4,
 "nbformat_minor": 4
}
